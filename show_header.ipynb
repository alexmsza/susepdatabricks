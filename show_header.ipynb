{
 "cells": [
  {
   "cell_type": "code",
   "execution_count": 12,
   "id": "30ecd8c3",
   "metadata": {},
   "outputs": [
    {
     "name": "stdout",
     "output_type": "stream",
     "text": [
      "Buscando arquivos CSV em: 'raw'...\n",
      "Encontrados 15 arquivos. Gerando o relatório 'relatorio_amostras.txt'...\n",
      "\n",
      "✅ Relatório 'relatorio_amostras.txt' foi gerado com sucesso!\n",
      "Ele contém os dados de cada arquivo em blocos separados.\n"
     ]
    }
   ],
   "source": [
    "import os\n",
    "import pandas as pd\n",
    "import glob\n",
    "\n",
    "# Defina a pasta onde estão seus arquivos CSV\n",
    "PASTA_DOS_DADOS = \"raw\"\n",
    "\n",
    "# Nome do arquivo de RELATÓRIO que será gerado.\n",
    "# Note a extensão .txt, pois não é um CSV válido.\n",
    "ARQUIVO_DE_RELATORIO = \"relatorio_amostras.txt\"\n",
    "\n",
    "# Apaga o arquivo de relatório antigo, se existir, para começar do zero\n",
    "if os.path.exists(ARQUIVO_DE_RELATORIO):\n",
    "    os.remove(ARQUIVO_DE_RELATORIO)\n",
    "\n",
    "if not os.path.exists(PASTA_DOS_DADOS):\n",
    "    print(f\"Erro: A pasta '{PASTA_DOS_DADOS}' não foi encontrada.\")\n",
    "else:\n",
    "    print(f\"Buscando arquivos CSV em: '{PASTA_DOS_DADOS}'...\")\n",
    "\n",
    "    arquivos_csv = sorted(glob.glob(os.path.join(PASTA_DOS_DADOS, '**', '*.csv'), recursive=True))\n",
    "\n",
    "    if not arquivos_csv:\n",
    "        print(\"Nenhum arquivo CSV foi encontrado na pasta.\")\n",
    "    else:\n",
    "        print(f\"Encontrados {len(arquivos_csv)} arquivos. Gerando o relatório '{ARQUIVO_DE_RELATORIO}'...\")\n",
    "        \n",
    "        # Abre o arquivo de relatório UMA VEZ no modo 'append' (anexar)\n",
    "        with open(ARQUIVO_DE_RELATORIO, 'a', encoding='utf-8') as f:\n",
    "            # Itera sobre cada arquivo encontrado\n",
    "            for caminho_do_arquivo in arquivos_csv:\n",
    "                nome_do_arquivo = os.path.basename(caminho_do_arquivo)\n",
    "                \n",
    "                try:\n",
    "                    df_amostra = pd.read_csv(\n",
    "                        caminho_do_arquivo,\n",
    "                        sep=';',\n",
    "                        encoding='latin1',\n",
    "                        on_bad_lines='warn',\n",
    "                        nrows=10\n",
    "                    )\n",
    "                    \n",
    "                    # --- LÓGICA PRINCIPAL ---\n",
    "                    # 1. Escreve o nome do arquivo como um título\n",
    "                    f.write(\"=\" * 70 + \"\\n\")\n",
    "                    f.write(f\"ARQUIVO: {nome_do_arquivo}\\n\")\n",
    "                    f.write(\"=\" * 70 + \"\\n\")\n",
    "                    \n",
    "                    # 2. Converte o DataFrame (cabeçalho + linhas) para uma string e escreve no arquivo\n",
    "                    f.write(df_amostra.to_string(index=False))\n",
    "                    \n",
    "                    # 3. Adiciona duas linhas em branco para separar do próximo bloco\n",
    "                    f.write(\"\\n\\n\")\n",
    "\n",
    "                except Exception as e:\n",
    "                    f.write(\"=\" * 70 + \"\\n\")\n",
    "                    f.write(f\"ARQUIVO: {nome_do_arquivo}\\n\")\n",
    "                    f.write(f\"Ocorreu um erro ao ler este arquivo: {e}\\n\")\n",
    "                    f.write(\"=\" * 70 + \"\\n\\n\")\n",
    "\n",
    "        print(f\"\\n✅ Relatório '{ARQUIVO_DE_RELATORIO}' foi gerado com sucesso!\")\n",
    "        print(\"Ele contém os dados de cada arquivo em blocos separados.\")"
   ]
  }
 ],
 "metadata": {
  "kernelspec": {
   "display_name": "Python 3",
   "language": "python",
   "name": "python3"
  },
  "language_info": {
   "codemirror_mode": {
    "name": "ipython",
    "version": 3
   },
   "file_extension": ".py",
   "mimetype": "text/x-python",
   "name": "python",
   "nbconvert_exporter": "python",
   "pygments_lexer": "ipython3",
   "version": "3.12.1"
  }
 },
 "nbformat": 4,
 "nbformat_minor": 5
}
